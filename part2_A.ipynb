{
 "cells": [
  {
   "cell_type": "code",
   "execution_count": 2,
   "id": "18fe7032",
   "metadata": {},
   "outputs": [
    {
     "name": "stdout",
     "output_type": "stream",
     "text": [
      "Collecting gurobipyNote: you may need to restart the kernel to use updated packages.\n",
      "\n",
      "  Downloading gurobipy-10.0.1-cp39-cp39-win_amd64.whl (9.7 MB)\n",
      "     ---------------------------------------- 9.7/9.7 MB 13.5 MB/s eta 0:00:00\n",
      "Installing collected packages: gurobipy\n",
      "Successfully installed gurobipy-10.0.1\n"
     ]
    }
   ],
   "source": [
    "pip install gurobipy\n"
   ]
  },
  {
   "cell_type": "code",
   "execution_count": 1,
   "id": "4c5b33cd",
   "metadata": {},
   "outputs": [
    {
     "name": "stdout",
     "output_type": "stream",
     "text": [
      "Restricted license - for non-production use only - expires 2024-10-28\n",
      "Gurobi Optimizer version 10.0.1 build v10.0.1rc0 (win64)\n",
      "\n",
      "CPU model: Intel(R) Core(TM) i5-8250U CPU @ 1.60GHz, instruction set [SSE2|AVX|AVX2]\n",
      "Thread count: 4 physical cores, 8 logical processors, using up to 8 threads\n",
      "\n",
      "Optimize a model with 7 rows, 4 columns and 28 nonzeros\n",
      "Model fingerprint: 0xe655ccb2\n",
      "Coefficient statistics:\n",
      "  Matrix range     [9e-01, 1e+03]\n",
      "  Objective range  [9e-01, 1e+03]\n",
      "  Bounds range     [5e+01, 5e+01]\n",
      "  RHS range        [2e+03, 2e+04]\n",
      "Presolve removed 3 rows and 1 columns\n",
      "Presolve time: 0.08s\n",
      "Presolved: 4 rows, 3 columns, 12 nonzeros\n",
      "\n",
      "Iteration    Objective       Primal Inf.    Dual Inf.      Time\n",
      "       0    2.5652866e+04   6.732038e+02   0.000000e+00      0s\n",
      "       1    1.9700000e+04   0.000000e+00   0.000000e+00      0s\n",
      "\n",
      "Solved in 1 iterations and 0.22 seconds (0.00 work units)\n",
      "Optimal objective  1.970000000e+04\n",
      "my_var1 = 0.0\n",
      "my_var2 = 20.0\n",
      "my_var3 = 0.0\n",
      "my_var4 = 0.0\n",
      "Optimal objective value: £ 19700.00\n"
     ]
    }
   ],
   "source": [
    "import gurobipy as gp\n",
    "\n",
    "# Create a new model\n",
    "my_model = gp.Model()\n",
    "\n",
    "# Define decision variables\n",
    "my_var1 = my_model.addVar(lb=0, vtype=gp.GRB.CONTINUOUS, name=\"my_var1\")\n",
    "my_var2 = my_model.addVar(lb=0, ub=50, vtype=gp.GRB.CONTINUOUS, name=\"my_var2\")\n",
    "my_var3 = my_model.addVar(lb=0, ub=50, vtype=gp.GRB.CONTINUOUS, name=\"my_var3\")\n",
    "my_var4 = my_model.addVar(lb=0, vtype=gp.GRB.CONTINUOUS, name=\"my_var4\")\n",
    "\n",
    "# Set objective function\n",
    "my_obj = 5*my_var1 + 985*my_var2 - 475*my_var3 - 0.9*my_var4\n",
    "my_model.setObjective(my_obj, gp.GRB.MAXIMIZE)\n",
    "\n",
    "# Add constraints\n",
    "my_budget_constraint = my_model.addConstr(20*my_var1 + 1000*my_var2 - 15*my_var3 + 0.9*my_var4 <= 20000, \"my_budget\")\n",
    "my_min_profit_constraint_1 = my_model.addConstr(5*my_var1 + 985*my_var2 - 475*my_var3 - 0.9*my_var4 >= 2000, \"my_min_profit_1\")\n",
    "my_min_profit_constraint_2 = my_model.addConstr(5*my_var1 + 595*my_var2 + 285*my_var3 - 0.9*my_var4 >= 2000, \"my_min_profit_2\")\n",
    "my_min_profit_constraint_3 = my_model.addConstr(5*my_var1 + 175*my_var2 + 695*my_var3 - 0.9*my_var4 >= 2000, \"my_min_profit_3\")\n",
    "\n",
    "# Additional constraints for minimum profit of £2,000 in any of the three scenarios\n",
    "my_min_profit_constraint_1_mod = my_model.addConstr(5*my_var1 + 985*my_var2 - 475*my_var3 - 0.9*my_var4 >= 2000, \"my_min_profit_1_mod\")\n",
    "my_min_profit_constraint_2_mod = my_model.addConstr(5*my_var1 + 595*my_var2 + 285*my_var3 - 0.9*my_var4 >= 2000, \"my_min_profit_2_mod\")\n",
    "my_min_profit_constraint_3_mod = my_model.addConstr(5*my_var1 + 175*my_var2 + 695*my_var3 - 0.9*my_var4 >= 2000, \"my_min_profit_3_mod\")\n",
    "\n",
    "# Solve the model\n",
    "my_model.optimize()\n",
    "\n",
    "# Print the optimal solution and objective value\n",
    "for v in my_model.getVars():\n",
    "    print(f\"{v.varName} = {v.x}\")\n",
    "print(f\"Optimal objective value: £ {my_model.objVal:.2f}\")\n"
   ]
  }
 ],
 "metadata": {
  "kernelspec": {
   "display_name": "Python 3 (ipykernel)",
   "language": "python",
   "name": "python3"
  },
  "language_info": {
   "codemirror_mode": {
    "name": "ipython",
    "version": 3
   },
   "file_extension": ".py",
   "mimetype": "text/x-python",
   "name": "python",
   "nbconvert_exporter": "python",
   "pygments_lexer": "ipython3",
   "version": "3.9.13"
  }
 },
 "nbformat": 4,
 "nbformat_minor": 5
}
